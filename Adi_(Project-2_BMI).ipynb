{
  "nbformat": 4,
  "nbformat_minor": 0,
  "metadata": {
    "colab": {
      "provenance": []
    },
    "kernelspec": {
      "name": "python3",
      "display_name": "Python 3"
    },
    "language_info": {
      "name": "python"
    }
  },
  "cells": [
    {
      "cell_type": "code",
      "execution_count": null,
      "metadata": {
        "colab": {
          "base_uri": "https://localhost:8080/"
        },
        "id": "lk6T2ZIHsYzw",
        "outputId": "19a3340e-abf8-4431-9341-7f0346ede8ac"
      },
      "outputs": [
        {
          "output_type": "stream",
          "name": "stdout",
          "text": [
            "Welcome to BMI calculator \n",
            "Enter the number of persons you want to know their BMI 1\n",
            "Enter your height in inches: 68\n",
            "Enter your weight in kg: 65\n",
            "\n",
            "You have 24.40467608612072 BMI and falls in Normal weight category.\n"
          ]
        }
      ],
      "source": [
        "print('Welcome to BMI calculator ')\n",
        "x =int(input('Enter the number of persons you want to know their BMI '))\n",
        "for i in range(0,x):\n",
        "  height= eval(input('Enter your height in inches: '))\n",
        "  wght= eval(input('Enter your weight in kg: '))\n",
        "  hght=height*0.024 #converting into mtr\n",
        "  BMI= wght/(hght*hght)\n",
        "  print()\n",
        "  if(BMI<18.5):\n",
        "    print(f'You have {BMI} BMI and falls in Underweight category.')\n",
        "  elif(BMI>18.5 and BMI<24.9):\n",
        "    print(f'You have {BMI} BMI and falls in Normal weight category.')\n",
        "  elif(BMI>25 and BMI<29.9 ):\n",
        "    print(f'You have {BMI} BMI and falls in Overweight category. ')\n",
        "  elif(BMI>30 and BMI<34.5 ):\n",
        "    print(f'You have {BMI} BMI and falls in Obesity class I category. ')\n",
        "  elif(BMI>35 and BMI<39.5):\n",
        "    print(f'You have {BMI} BMI and falls in Obesity class II category. ')\n",
        "  else:\n",
        "    print(f'You have {BMI} BMI and falls in Obesity class III category. ')"
      ]
    },
    {
      "cell_type": "code",
      "source": [],
      "metadata": {
        "id": "cMsBmU-ExD2d"
      },
      "execution_count": null,
      "outputs": []
    }
  ]
}