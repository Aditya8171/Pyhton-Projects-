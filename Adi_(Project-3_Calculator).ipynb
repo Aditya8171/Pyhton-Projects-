{
  "nbformat": 4,
  "nbformat_minor": 0,
  "metadata": {
    "colab": {
      "provenance": []
    },
    "kernelspec": {
      "name": "python3",
      "display_name": "Python 3"
    },
    "language_info": {
      "name": "python"
    }
  },
  "cells": [
    {
      "cell_type": "code",
      "source": [
        "x = {'+':'Addition','-':'Substraction','*':'Multiplication','/':'Division','//':'FloorDivision', '%':'Modulus','**':'Exponentation'}\n",
        "y=1\n",
        "while y>0 :\n",
        "  sign = input(f'''\n",
        "  Welcome to the Python Calculator!\n",
        "  {x.items()}\n",
        "  Enter the name or its symbol of mathematical oeration which you want to perform or type 'exit' for: ''')\n",
        "  if (sign=='exit'):\n",
        "    break\n",
        "  else :\n",
        "    a = eval(input('Enter the value of first number: '))\n",
        "    b = eval(input('Enter the value of second number: '))\n",
        "    match(sign.lower()):\n",
        "      case 'addition'|'+' :\n",
        "        print(f'Addition of two numbers {a} & {b} \"\\u2A75\" {a+b}')\n",
        "      case 'substraction'|'-' :\n",
        "        print(f'Substraction of two numbers {a} & {b} is {a-b}')\n",
        "      case 'multiplication'|'*' :\n",
        "        print(f'Multiplication of two numbers {a} & {b} is {a*b}')\n",
        "      case 'division'|'/':\n",
        "        print(f'Division of two numbers {a} & {b} is {a/b}')\n",
        "      case 'floorDivision'|'//' :\n",
        "        print(f'FloorDivision of two numbers {a} & {b} is {a//b}')\n",
        "      case 'modulus'|'%' :\n",
        "        print(f'Modulus of two numbers {a} & {b} is {a%b}')\n",
        "      case 'exponentation'|'**' :\n",
        "        print(f'Exponentation of two numbers {a} & {b} is {a**b} ')\n",
        "      case _:\n",
        "        print('Enter valid sign')"
      ],
      "metadata": {
        "colab": {
          "base_uri": "https://localhost:8080/"
        },
        "id": "sgUZIGnqmYsS",
        "outputId": "63cfe48b-b63b-4674-e5f4-47b01b63920b"
      },
      "execution_count": 7,
      "outputs": [
        {
          "name": "stdout",
          "output_type": "stream",
          "text": [
            "\n",
            "  Welcome to the Python Calculator!\n",
            "  dict_items([('+', 'Addition'), ('-', 'Substraction'), ('*', 'Multiplication'), ('/', 'Division'), ('//', 'FloorDivision'), ('%', 'Modulus'), ('**', 'Exponentation')])\n",
            "  Enter the name or its symbol of mathematical oeration which you want to perform or type 'exit' for: addition\n",
            "Enter the value of first number: 45\n",
            "Enter the value of second number: 24\n",
            "Addition of two numbers 45 & 24 \"⩵\" 69\n",
            "\n",
            "  Welcome to the Python Calculator!\n",
            "  dict_items([('+', 'Addition'), ('-', 'Substraction'), ('*', 'Multiplication'), ('/', 'Division'), ('//', 'FloorDivision'), ('%', 'Modulus'), ('**', 'Exponentation')])\n",
            "  Enter the name or its symbol of mathematical oeration which you want to perform or type 'exit' for: Substraction\n",
            "Enter the value of first number: 24\n",
            "Enter the value of second number: 12\n",
            "Substraction of two numbers 24 & 12 is 12\n",
            "\n",
            "  Welcome to the Python Calculator!\n",
            "  dict_items([('+', 'Addition'), ('-', 'Substraction'), ('*', 'Multiplication'), ('/', 'Division'), ('//', 'FloorDivision'), ('%', 'Modulus'), ('**', 'Exponentation')])\n",
            "  Enter the name or its symbol of mathematical oeration which you want to perform or type 'exit' for: *\n",
            "Enter the value of first number: 24\n",
            "Enter the value of second number: 12\n",
            "Multiplication of two numbers 24 & 12 is 288\n",
            "\n",
            "  Welcome to the Python Calculator!\n",
            "  dict_items([('+', 'Addition'), ('-', 'Substraction'), ('*', 'Multiplication'), ('/', 'Division'), ('//', 'FloorDivision'), ('%', 'Modulus'), ('**', 'Exponentation')])\n",
            "  Enter the name or its symbol of mathematical oeration which you want to perform or type 'exit' for: exit\n"
          ]
        }
      ]
    }
  ]
}