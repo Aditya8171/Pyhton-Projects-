{
  "nbformat": 4,
  "nbformat_minor": 0,
  "metadata": {
    "colab": {
      "provenance": []
    },
    "kernelspec": {
      "name": "python3",
      "display_name": "Python 3"
    },
    "language_info": {
      "name": "python"
    }
  },
  "cells": [
    {
      "cell_type": "markdown",
      "source": [
        "@@<b>Rules for gmail address </b>\n",
        ">1.“Abuse” and “Postmaster” are reserved aliases, and you cannot use them as usernames or aliases.<br>\n",
        ">2.Choose a username 6–30 characters long. Your username can be any combination of letters, numbers, or symbols.<br>\n",
        ">3.Usernames can contain letters(a-z),numbers(0-9) and periods(.).<br>\n",
        ">4.#Usernames cannot contain an ampersand (&), equals sign (=), underscore (_), apostrophe ('), dash (-), plus sign (+), comma (,), brackets (<,>), or more than one period (.) in a row<br>\n",
        ">5.sernames can begin or end with non-alphanumeric characters except periods (.). Other than this rule, periods (dots) don’t matter in Gmail addresses."
      ],
      "metadata": {
        "id": "maxqiLmjcd3g"
      }
    },
    {
      "cell_type": "code",
      "source": [],
      "metadata": {
        "id": "Ji7PEY1i23Nu"
      },
      "execution_count": null,
      "outputs": []
    },
    {
      "cell_type": "code",
      "source": [
        "  # Input email to check\n",
        "  email = input(\"Enter an email address: \")\n",
        "\n",
        "  # Rule 1: Reserved aliases\n",
        "  if email.lower() == \"abuse@gmail.com\" or email.lower() == \"postmaster@gmail.com\":\n",
        "      print(\"Reserved aliases 'Abuse' and 'Postmaster' are not allowed.\")\n",
        "  else:\n",
        "      # Split the email into username and domain parts\n",
        "      parts = email.split('@')\n",
        "\n",
        "      if len(parts) == 2:\n",
        "          username, domain = parts\n",
        "\n",
        "          # Rule 2: Username length\n",
        "          if 6 <= len(username) <= 30:\n",
        "              # Rule 3: Valid characters in username\n",
        "              if all(char.isalnum() or char == '.' for char in username):\n",
        "                  # Rule 4: Invalid characters in username\n",
        "                  if '&' not in username and '=' not in username and \"'\" not in username and '-' not in username and '+' not in username and ',' not in username and username.count('.') <= 1:\n",
        "                      # Rule 5: Non-alphanumeric characters at the start and end\n",
        "                      if username[0].isalnum() or username[0] == '.':\n",
        "                          if username[-1].isalnum() or username[-1] == '.':\n",
        "                              print(f\"{email} is a valid Gmail address.\")\n",
        "                          else:\n",
        "                              print(\"Gmail address cannot end with a non-alphanumeric character.\")\n",
        "                      else:\n",
        "                          print(\"Gmail address cannot start with a non-alphanumeric character.\")\n",
        "                  else:\n",
        "                      print(\"Gmail address contains invalid characters.\")\n",
        "              else:\n",
        "                  print(\"Gmail address contains invalid characters.\")\n",
        "          else:\n",
        "              print(\"Username length should be between 6 and 30 characters.\")\n",
        "      else:\n",
        "          print(\"Invalid email format. It should be in the format 'username@gmail.com'.\")\n"
      ],
      "metadata": {
        "colab": {
          "base_uri": "https://localhost:8080/"
        },
        "id": "tiYe8Z48mWU1",
        "outputId": "cce1067c-a02a-464d-aeb8-55de6ea37f6c"
      },
      "execution_count": 1,
      "outputs": [
        {
          "output_type": "stream",
          "name": "stdout",
          "text": [
            "Enter an email address: adithakur@gmail.com\n",
            "adithakur@gmail.com is a valid Gmail address.\n"
          ]
        }
      ]
    }
  ]
}